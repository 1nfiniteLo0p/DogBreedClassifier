{
 "cells": [
  {
   "cell_type": "code",
   "execution_count": 4,
   "id": "93749c64-9bbe-42f6-a33e-720963634b33",
   "metadata": {},
   "outputs": [
    {
     "name": "stdout",
     "output_type": "stream",
     "text": [
      "Running on local URL:  http://127.0.0.1:7861\n",
      "\n",
      "To create a public link, set `share=True` in `launch()`.\n"
     ]
    },
    {
     "data": {
      "text/plain": []
     },
     "execution_count": 4,
     "metadata": {},
     "output_type": "execute_result"
    }
   ],
   "source": [
    "from fastai.vision.all import *\n",
    "from pathlib import Path\n",
    "import gradio as gr\n",
    "import torch\n",
    "import numpy as np\n",
    "import pathlib\n",
    "import os\n",
    "\n",
    "def get_dog_breed(o):\n",
    "    folder_name = Path(o).parent.name\n",
    "    breed = str(folder_name).split('-')[1]\n",
    "    return ' '.join(breed.split('_'))\n",
    "\n",
    "model_path = Path('dog_breeds_clf_model.pkl')\n",
    "\n",
    "on_windows = False\n",
    "if os.name == 'nt':\n",
    "    on_windows = True\n",
    "\n",
    "if on_windows:\n",
    "    temp = pathlib.PosixPath\n",
    "    pathlib.PosixPath = pathlib.WindowsPath\n",
    "    learn = load_learner(model_path)\n",
    "    pathlib.PosixPath = temp\n",
    "else:\n",
    "    learn = load_learner(model_path)\n",
    "\n",
    "\n",
    "categories = learn.dls.vocab\n",
    "def classify_images(img):\n",
    "    pred,idx,probs = learn.predict(img)\n",
    "    return dict(zip(categories, map(float,probs)))\n",
    "\n",
    "examples = ['black_labrador_retriever.jpg', 'great_dane.jpg', 'chihuahua.jpg']\n",
    "\n",
    "intf = gr.Interface(fn=classify_images, inputs=\"image\", outputs=\"label\", examples=examples)\n",
    "intf.launch(inline=False)"
   ]
  }
 ],
 "metadata": {
  "kernelspec": {
   "display_name": "Python 3 (ipykernel)",
   "language": "python",
   "name": "python3"
  },
  "language_info": {
   "codemirror_mode": {
    "name": "ipython",
    "version": 3
   },
   "file_extension": ".py",
   "mimetype": "text/x-python",
   "name": "python",
   "nbconvert_exporter": "python",
   "pygments_lexer": "ipython3",
   "version": "3.12.4"
  }
 },
 "nbformat": 4,
 "nbformat_minor": 5
}
